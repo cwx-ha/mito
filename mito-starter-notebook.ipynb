{
 "cells": [
  {
   "cell_type": "code",
   "execution_count": 18,
   "id": "8806043e-cdb1-41cb-9986-5213eb1a7cb5",
   "metadata": {},
   "outputs": [],
   "source": [
    "# Imported all_games.csv\n",
    "import pandas as pd\n",
    "all_games = pd.read_csv(r'C:\\Users\\hanin\\Downloads\\archive\\all_games.csv')"
   ]
  },
  {
   "cell_type": "code",
   "execution_count": 4,
   "id": "c0957234-ba57-4199-adfa-9d17ede0b8f9",
   "metadata": {
    "tags": []
   },
   "outputs": [
    {
     "data": {
      "application/vnd.jupyter.widget-view+json": {
       "model_id": "66cea4d471db45e09fa0247e642ea50d",
       "version_major": 2,
       "version_minor": 0
      },
      "text/plain": [
       "MitoWidget(analysis_data_json='{\"analysisName\": \"id-wfbhcqvdbn\", \"analysisToReplay\": {\"analysisName\": \"id-qlls…"
      ]
     },
     "metadata": {},
     "output_type": "display_data"
    }
   ],
   "source": [
    "# Run this cell to render a mitosheet\n",
    "# See mito's documentation here: https://docs.trymito.io/how-to/creating-a-mitosheet\n",
    "# Join our Discord for support here: https://discord.gg/XdJSZyejJU\n",
    "\n",
    "import mitosheet\n",
    "mitosheet.sheet(all_games, analysis_to_replay=\"id-qllsditxmp\")"
   ]
  },
  {
   "cell_type": "code",
   "execution_count": null,
   "id": "5313fba2-6a9e-467a-b7d0-a930d1b6c8b7",
   "metadata": {},
   "outputs": [],
   "source": [
    "from mitosheet import *; register_analysis(\"id-qllsditxmp\");\n",
    "    \n",
    "# Imported all_games.csv\n",
    "import pandas as pd\n",
    "all_games_1 = pd.read_csv(r'C:\\Users\\hanin\\Downloads\\archive\\all_games.csv')\n",
    "\n",
    "# Changed release_date to dtype datetime\n",
    "import pandas as pd\n",
    "all_games['release_date'] = pd.to_datetime(all_games['release_date'], infer_datetime_format=True, errors='coerce')\n",
    "\n",
    "# Changed user_review to dtype float\n",
    "all_games['user_review'] = to_float_series(all_games['user_review'])\n",
    "\n",
    "# Merged all_games and all_games_1 into df3\n",
    "temp_df = all_games_1.drop_duplicates(subset='name') # Remove duplicates so lookup merge only returns first match\n",
    "df3 = all_games.merge(temp_df, left_on=['name'], right_on=['name'], how='left', suffixes=['_all_games', '_all_games_1'])\n",
    "\n",
    "# Pivoted into all_games\n",
    "all_games_pivot = pd.DataFrame(data={})\n"
   ]
  },
  {
   "cell_type": "code",
   "execution_count": 6,
   "id": "eefab785-486a-438a-a3a4-3ae70ef2300f",
   "metadata": {},
   "outputs": [
    {
     "data": {
      "application/vnd.jupyter.widget-view+json": {
       "model_id": "934767ac8015462db99c66f02b8c0f6c",
       "version_major": 2,
       "version_minor": 0
      },
      "text/plain": [
       "MitoWidget(analysis_data_json='{\"analysisName\": \"id-dcidjlevjb\", \"analysisToReplay\": null, \"code\": [], \"stepSu…"
      ]
     },
     "metadata": {},
     "output_type": "display_data"
    }
   ],
   "source": [
    "mitosheet.sheet(all_games, analysis_to_replay=\"id-dcidjlevjb\")"
   ]
  },
  {
   "cell_type": "code",
   "execution_count": 8,
   "id": "2a765e37-4b50-4d78-9d73-3bec28db1f11",
   "metadata": {},
   "outputs": [],
   "source": [
    "from mitosheet import *; register_analysis(\"id-dcidjlevjb\");\n",
    "    \n",
    "# Changed user_review to dtype float\n",
    "all_games['user_review'] = to_float_series(all_games['user_review'])\n",
    "\n",
    "# Deleted columns release_date\n",
    "all_games.drop(['release_date'], axis=1, inplace=True)\n"
   ]
  },
  {
   "cell_type": "markdown",
   "id": "edc9e545-10fe-4bd1-8998-90a6eacc0704",
   "metadata": {
    "tags": []
   },
   "source": [
    "## Change datatype\n",
    "Changing the datatype in Mito is a piece of cake. All you need to do is click on the datatype, right below the column’s name, and choose the new datatype. In the example below, I will change a string to a datetime datatype. You will see that the icon will change from Abc (which means that the datatype is a string) to a calendar icon. DAT EASY!\n",
    "\n",
    "Also, it seems like the user_review column is a string. Let’s fix this by changing it to a float."
   ]
  },
  {
   "cell_type": "code",
   "execution_count": 14,
   "id": "b8914f89-2bbf-4433-b827-4dae4f22de8c",
   "metadata": {},
   "outputs": [
    {
     "data": {
      "application/vnd.jupyter.widget-view+json": {
       "model_id": "79bb398537f4440e8bb8b06fe818102c",
       "version_major": 2,
       "version_minor": 0
      },
      "text/plain": [
       "MitoWidget(analysis_data_json='{\"analysisName\": \"id-hikravlisb\", \"analysisToReplay\": null, \"code\": [], \"stepSu…"
      ]
     },
     "metadata": {},
     "output_type": "display_data"
    }
   ],
   "source": [
    "# Run this cell to render a mitosheet\n",
    "# See mito's documentation here: https://docs.trymito.io/how-to/creating-a-mitosheet\n",
    "# Join our Discord for support here: https://discord.gg/XdJSZyejJU\n",
    "\n",
    "import mitosheet\n",
    "mitosheet.sheet(all_games, analysis_to_replay=\"id-hikravlisb\")"
   ]
  },
  {
   "cell_type": "code",
   "execution_count": 19,
   "id": "d2253d1d-d0bc-4eea-88cb-e5d5e532aa18",
   "metadata": {},
   "outputs": [],
   "source": [
    "from mitosheet import *; register_analysis(\"id-hikravlisb\");\n",
    "    \n",
    "# Changed release_date to dtype datetime\n",
    "import pandas as pd\n",
    "all_games['release_date'] = pd.to_datetime(all_games['release_date'], infer_datetime_format=True, errors='coerce')\n",
    "\n",
    "# Changed user_review to dtype float\n",
    "all_games['user_review'] = to_float_series(all_games['user_review'])\n"
   ]
  },
  {
   "cell_type": "markdown",
   "id": "e5545135-e845-452f-b358-4ae79509572d",
   "metadata": {},
   "source": [
    "## Renaming columns\n",
    "Changing the column’s name couldn’t be any simpler. Just like you do in Excel, you will just click on the column’s name and edit."
   ]
  },
  {
   "cell_type": "code",
   "execution_count": 16,
   "id": "af8a4864-07d0-4ce4-aa80-abf24f7946b1",
   "metadata": {},
   "outputs": [
    {
     "data": {
      "application/vnd.jupyter.widget-view+json": {
       "model_id": "d3b3498dffdc421a9ea010471ad55623",
       "version_major": 2,
       "version_minor": 0
      },
      "text/plain": [
       "MitoWidget(analysis_data_json='{\"analysisName\": \"id-pkuaxwcbpo\", \"analysisToReplay\": null, \"code\": [], \"stepSu…"
      ]
     },
     "metadata": {},
     "output_type": "display_data"
    }
   ],
   "source": [
    "# Run this cell to render a mitosheet\n",
    "# See mito's documentation here: https://docs.trymito.io/how-to/creating-a-mitosheet\n",
    "# Join our Discord for support here: https://discord.gg/XdJSZyejJU\n",
    "\n",
    "import mitosheet\n",
    "mitosheet.sheet(all_games, analysis_to_replay=\"id-pkuaxwcbpo\")"
   ]
  },
  {
   "cell_type": "code",
   "execution_count": 20,
   "id": "b0f5e31a-2947-4496-b971-973f8d147245",
   "metadata": {},
   "outputs": [],
   "source": [
    "from mitosheet import *; register_analysis(\"id-pkuaxwcbpo\");\n",
    "    \n",
    "# Renamed columns game_name\n",
    "all_games.rename(columns={'name': 'game_name'}, inplace=True)\n"
   ]
  },
  {
   "cell_type": "markdown",
   "id": "e66845a5-b3c1-4a12-8607-457c0b68616d",
   "metadata": {},
   "source": [
    "## Dropping columns\n",
    "Dropping columns is another thing that Mito makes ridiculously simple. Just select the column, and click on DEL COL. That’s it!\n",
    "\n",
    "Imagine a project where you need to delete multiple columns. Instead of typing the name of each of them, you can solve this with a few clicks."
   ]
  },
  {
   "cell_type": "code",
   "execution_count": 21,
   "id": "a6ec3a4a-dd26-496d-9e32-caa3d7fdacc2",
   "metadata": {},
   "outputs": [
    {
     "data": {
      "application/vnd.jupyter.widget-view+json": {
       "model_id": "3811b7237e2246faa34319cab8759b28",
       "version_major": 2,
       "version_minor": 0
      },
      "text/plain": [
       "MitoWidget(analysis_data_json='{\"analysisName\": \"id-bclmwkepzu\", \"analysisToReplay\": {\"analysisName\": \"id-gtri…"
      ]
     },
     "metadata": {},
     "output_type": "display_data"
    }
   ],
   "source": [
    "mitosheet.sheet(all_games, analysis_to_replay=\"id-gtrijnckwk\")"
   ]
  },
  {
   "cell_type": "code",
   "execution_count": null,
   "id": "518e4981-4230-48b0-bc42-883798ac8ee8",
   "metadata": {},
   "outputs": [],
   "source": [
    "from mitosheet import *; register_analysis(\"id-gtrijnckwk\");\n",
    "    \n",
    "# Deleted columns user_review\n",
    "all_games.drop(['user_review'], axis=1, inplace=True)\n",
    "\n",
    "# Deleted columns meta_score\n",
    "all_games.drop(['meta_score'], axis=1, inplace=True)\n"
   ]
  },
  {
   "cell_type": "markdown",
   "id": "22c9d5a9-7e34-4d71-8cb2-d25fd1135d71",
   "metadata": {},
   "source": [
    "## Using multiple DataFrames\n",
    "Another very cool feature is that you can work with multiple DataFrames at the same time. There are two ways to do it. You can click on IMPORT and upload files from your computer, or, in case you have the DataFrames in your notebook, you can add their names inside the parenthesis, just like the following code."
   ]
  },
  {
   "cell_type": "code",
   "execution_count": 9,
   "id": "04fcd429-b8ec-44b5-a87c-aef4d365baeb",
   "metadata": {},
   "outputs": [],
   "source": [
    "above_9 = all_games[all_games['user_review']>9]\n",
    "below_9 = all_games[all_games['user_review']<9]"
   ]
  },
  {
   "cell_type": "code",
   "execution_count": 10,
   "id": "efdba33b-5788-4ce1-8f5e-f0acc2ec6a0e",
   "metadata": {},
   "outputs": [
    {
     "data": {
      "application/vnd.jupyter.widget-view+json": {
       "model_id": "0105e4e6817f45109c671e5534ea6ed8",
       "version_major": 2,
       "version_minor": 0
      },
      "text/plain": [
       "MitoWidget(analysis_data_json='{\"analysisName\": \"id-rrqtgtyxzj\", \"analysisToReplay\": {\"analysisName\": \"id-mdgo…"
      ]
     },
     "metadata": {},
     "output_type": "display_data"
    }
   ],
   "source": [
    "mitosheet.sheet(above_9,below_9, analysis_to_replay=\"id-mdgoojweps\")"
   ]
  },
  {
   "cell_type": "code",
   "execution_count": null,
   "id": "8ccae56c-8a84-45b5-aff5-c9327e225743",
   "metadata": {},
   "outputs": [],
   "source": [
    "import plotly.express as px\n",
    "# Construct the graph and style it. Further customize your graph by editing this code.\n",
    "# See Plotly Documentation for help: https://plotly.com/python/plotly-express/\n",
    "fig = px.bar(above_9, x='platform')\n",
    "fig.update_layout(\n",
    "    title='platform bar chart', \n",
    "    xaxis = dict(\n",
    "        rangeslider = dict(\n",
    "            visible=True, \n",
    "            thickness=0.05\n",
    "        )\n",
    "    ), \n",
    "    yaxis = dict(\n",
    "\n",
    "    ), \n",
    "    barmode='group', \n",
    "    paper_bgcolor='#FFFFFF', \n",
    "    showlegend=True\n",
    ")\n",
    "fig.show(renderer=\"iframe\")"
   ]
  },
  {
   "cell_type": "markdown",
   "id": "45ceb3e4-dbe7-4b50-9829-d35df4cf1053",
   "metadata": {},
   "source": [
    "## Filtering data\n",
    "You can filter the data by clicking on the funnel icon and choosing what you want to filter. In the example below, I’m filtering to see only games where user_review is larger than 9.5. You can also create filter groups where you can select multiple conditionals."
   ]
  },
  {
   "cell_type": "code",
   "execution_count": 12,
   "id": "e5c7a939-6a8a-40ea-994c-f5daa7fbf4d8",
   "metadata": {},
   "outputs": [
    {
     "data": {
      "application/vnd.jupyter.widget-view+json": {
       "model_id": "a6be7988386d494ab9508712f2546eda",
       "version_major": 2,
       "version_minor": 0
      },
      "text/plain": [
       "MitoWidget(analysis_data_json='{\"analysisName\": \"id-njhlkvvxxg\", \"analysisToReplay\": null, \"code\": [], \"stepSu…"
      ]
     },
     "metadata": {},
     "output_type": "display_data"
    }
   ],
   "source": [
    "mitosheet.sheet(all_games, analysis_to_replay=\"id-njhlkvvxxg\")"
   ]
  },
  {
   "cell_type": "code",
   "execution_count": 14,
   "id": "8273018d-37bc-4f4a-babb-118c84248af1",
   "metadata": {},
   "outputs": [],
   "source": [
    "from mitosheet import *; register_analysis(\"id-njhlkvvxxg\");\n",
    "    \n",
    "# Filtered platform\n",
    "all_games = all_games[all_games['platform'].str.contains('PlayStation', na=False)]\n"
   ]
  },
  {
   "cell_type": "code",
   "execution_count": null,
   "id": "7fef6fb5-8809-46f9-b94c-27512d7b30e9",
   "metadata": {},
   "outputs": [],
   "source": [
    "from mitosheet import *; register_analysis(\"id-jggjbdupte\");\n",
    "    \n",
    "# Filtered user_review\n",
    "all_games = all_games[all_games['user_review'] > 9.5]\n"
   ]
  },
  {
   "cell_type": "code",
   "execution_count": 15,
   "id": "5725dbed-e745-48d1-a76b-277cf1c49799",
   "metadata": {},
   "outputs": [
    {
     "data": {
      "text/html": [
       "<iframe\n",
       "    scrolling=\"no\"\n",
       "    width=\"100%\"\n",
       "    height=\"545px\"\n",
       "    src=\"iframe_figures/figure_15.html\"\n",
       "    frameborder=\"0\"\n",
       "    allowfullscreen\n",
       "></iframe>\n"
      ]
     },
     "metadata": {},
     "output_type": "display_data"
    }
   ],
   "source": [
    "import plotly.express as px\n",
    "# Construct the graph and style it. Further customize your graph by editing this code.\n",
    "# See Plotly Documentation for help: https://plotly.com/python/plotly-express/\n",
    "fig = px.bar(all_games, x='platform')\n",
    "fig.update_layout(\n",
    "    title='platform bar chart', \n",
    "    xaxis = dict(\n",
    "        rangeslider = dict(\n",
    "            visible=True, \n",
    "            thickness=0.05\n",
    "        )\n",
    "    ), \n",
    "    yaxis = dict(\n",
    "\n",
    "    ), \n",
    "    barmode='group', \n",
    "    paper_bgcolor='#FFFFFF', \n",
    "    showlegend=True\n",
    ")\n",
    "fig.show(renderer=\"iframe\")"
   ]
  },
  {
   "cell_type": "markdown",
   "id": "2c6c3982-65ed-470a-91fb-488d63b1a936",
   "metadata": {},
   "source": [
    "## Pivot Table\n",
    ".groupby() is very useful for data analysis and, even if you are a pro user, you need to confess that grouping data in Python can be a little time-consuming. If you create one or two .groupby() you are probably ok, but doing multiple times every day can become annoying. Now, Mito doesn’t have a .groupby() option. It had .pivot_table() instead, which works similarly."
   ]
  },
  {
   "cell_type": "code",
   "execution_count": 19,
   "id": "f78ae5ab-ab0a-420b-9eae-927bad7c10c3",
   "metadata": {},
   "outputs": [
    {
     "data": {
      "application/vnd.jupyter.widget-view+json": {
       "model_id": "116b4c8b6f764b9c947fbf1c0048bda2",
       "version_major": 2,
       "version_minor": 0
      },
      "text/plain": [
       "MitoWidget(analysis_data_json='{\"analysisName\": \"id-gjwqnxdipi\", \"analysisToReplay\": null, \"code\": [], \"stepSu…"
      ]
     },
     "metadata": {},
     "output_type": "display_data"
    }
   ],
   "source": [
    "mitosheet.sheet(all_games, analysis_to_replay=\"id-gjwqnxdipi\")"
   ]
  },
  {
   "cell_type": "code",
   "execution_count": 22,
   "id": "25e38b08-ce33-450d-a866-d3b34097d595",
   "metadata": {},
   "outputs": [],
   "source": [
    "from mitosheet import *; register_analysis(\"id-gjwqnxdipi\");\n",
    "    \n",
    "# Pivoted into all_games\n",
    "tmp_df = all_games[['meta_score', 'platform', 'user_review']]\n",
    "pivot_table = tmp_df.pivot_table(\n",
    "    index=['platform'],\n",
    "    values=['meta_score', 'user_review'],\n",
    "    aggfunc={'meta_score': ['mean'], 'user_review': ['count']}\n",
    ")\n",
    "pivot_table.set_axis([flatten_column_header(col) for col in pivot_table.keys()], axis=1, inplace=True)\n",
    "all_games_pivot = pivot_table.reset_index()\n",
    "\n",
    "# Pivoted into all_games\n",
    "tmp_df = all_games[['meta_score', 'platform', 'user_review']]\n",
    "pivot_table = tmp_df.pivot_table(\n",
    "    index=['platform'],\n",
    "    values=['meta_score', 'user_review'],\n",
    "    aggfunc={'meta_score': ['mean'], 'user_review': ['count']}\n",
    ")\n",
    "pivot_table.set_axis([flatten_column_header(col) for col in pivot_table.keys()], axis=1, inplace=True)\n",
    "all_games_pivot = pivot_table.reset_index()\n"
   ]
  },
  {
   "cell_type": "code",
   "execution_count": null,
   "id": "ef600438-f82d-4168-87ab-ada4d3ff6906",
   "metadata": {},
   "outputs": [],
   "source": [
    "from mitosheet import *; register_analysis(\"id-dpahmfwapq\");\n",
    "    \n",
    "# Pivoted into all_games\n",
    "tmp_df = all_games[['meta_score', 'platform']]\n",
    "pivot_table = tmp_df.pivot_table(\n",
    "    index=['platform'],\n",
    "    values=['meta_score'],\n",
    "    aggfunc={'meta_score': ['count']}\n",
    ")\n",
    "pivot_table.set_axis([flatten_column_header(col) for col in pivot_table.keys()], axis=1, inplace=True)\n",
    "all_games_pivot = pivot_table.reset_index()\n"
   ]
  },
  {
   "cell_type": "code",
   "execution_count": 21,
   "id": "e9a50fae-8ef4-4a18-876e-c07292f0b402",
   "metadata": {},
   "outputs": [
    {
     "ename": "KeyError",
     "evalue": "\"['game_name'] not in index\"",
     "output_type": "error",
     "traceback": [
      "\u001b[1;31m---------------------------------------------------------------------------\u001b[0m",
      "\u001b[1;31mKeyError\u001b[0m                                  Traceback (most recent call last)",
      "\u001b[1;32m~\\AppData\\Local\\Temp\\ipykernel_2124\\2520983917.py\u001b[0m in \u001b[0;36m<module>\u001b[1;34m\u001b[0m\n\u001b[0;32m      2\u001b[0m \u001b[1;33m\u001b[0m\u001b[0m\n\u001b[0;32m      3\u001b[0m \u001b[1;31m# Pivoted into all_games\u001b[0m\u001b[1;33m\u001b[0m\u001b[1;33m\u001b[0m\u001b[1;33m\u001b[0m\u001b[0m\n\u001b[1;32m----> 4\u001b[1;33m \u001b[0mtmp_df\u001b[0m \u001b[1;33m=\u001b[0m \u001b[0mall_games\u001b[0m\u001b[1;33m[\u001b[0m\u001b[1;33m[\u001b[0m\u001b[1;34m'user_review'\u001b[0m\u001b[1;33m,\u001b[0m \u001b[1;34m'meta_score'\u001b[0m\u001b[1;33m,\u001b[0m \u001b[1;34m'game_name'\u001b[0m\u001b[1;33m,\u001b[0m \u001b[1;34m'platform'\u001b[0m\u001b[1;33m]\u001b[0m\u001b[1;33m]\u001b[0m\u001b[1;33m\u001b[0m\u001b[1;33m\u001b[0m\u001b[0m\n\u001b[0m\u001b[0;32m      5\u001b[0m pivot_table = tmp_df.pivot_table(\n\u001b[0;32m      6\u001b[0m     \u001b[0mindex\u001b[0m\u001b[1;33m=\u001b[0m\u001b[1;33m[\u001b[0m\u001b[1;34m'platform'\u001b[0m\u001b[1;33m]\u001b[0m\u001b[1;33m,\u001b[0m\u001b[1;33m\u001b[0m\u001b[1;33m\u001b[0m\u001b[0m\n",
      "\u001b[1;32mc:\\users\\hanin\\documents\\clockworkx\\mito\\mitoenv\\lib\\site-packages\\pandas\\core\\frame.py\u001b[0m in \u001b[0;36m__getitem__\u001b[1;34m(self, key)\u001b[0m\n\u001b[0;32m   3462\u001b[0m             \u001b[1;32mif\u001b[0m \u001b[0mis_iterator\u001b[0m\u001b[1;33m(\u001b[0m\u001b[0mkey\u001b[0m\u001b[1;33m)\u001b[0m\u001b[1;33m:\u001b[0m\u001b[1;33m\u001b[0m\u001b[1;33m\u001b[0m\u001b[0m\n\u001b[0;32m   3463\u001b[0m                 \u001b[0mkey\u001b[0m \u001b[1;33m=\u001b[0m \u001b[0mlist\u001b[0m\u001b[1;33m(\u001b[0m\u001b[0mkey\u001b[0m\u001b[1;33m)\u001b[0m\u001b[1;33m\u001b[0m\u001b[1;33m\u001b[0m\u001b[0m\n\u001b[1;32m-> 3464\u001b[1;33m             \u001b[0mindexer\u001b[0m \u001b[1;33m=\u001b[0m \u001b[0mself\u001b[0m\u001b[1;33m.\u001b[0m\u001b[0mloc\u001b[0m\u001b[1;33m.\u001b[0m\u001b[0m_get_listlike_indexer\u001b[0m\u001b[1;33m(\u001b[0m\u001b[0mkey\u001b[0m\u001b[1;33m,\u001b[0m \u001b[0maxis\u001b[0m\u001b[1;33m=\u001b[0m\u001b[1;36m1\u001b[0m\u001b[1;33m)\u001b[0m\u001b[1;33m[\u001b[0m\u001b[1;36m1\u001b[0m\u001b[1;33m]\u001b[0m\u001b[1;33m\u001b[0m\u001b[1;33m\u001b[0m\u001b[0m\n\u001b[0m\u001b[0;32m   3465\u001b[0m \u001b[1;33m\u001b[0m\u001b[0m\n\u001b[0;32m   3466\u001b[0m         \u001b[1;31m# take() does not accept boolean indexers\u001b[0m\u001b[1;33m\u001b[0m\u001b[1;33m\u001b[0m\u001b[1;33m\u001b[0m\u001b[0m\n",
      "\u001b[1;32mc:\\users\\hanin\\documents\\clockworkx\\mito\\mitoenv\\lib\\site-packages\\pandas\\core\\indexing.py\u001b[0m in \u001b[0;36m_get_listlike_indexer\u001b[1;34m(self, key, axis)\u001b[0m\n\u001b[0;32m   1312\u001b[0m             \u001b[0mkeyarr\u001b[0m\u001b[1;33m,\u001b[0m \u001b[0mindexer\u001b[0m\u001b[1;33m,\u001b[0m \u001b[0mnew_indexer\u001b[0m \u001b[1;33m=\u001b[0m \u001b[0max\u001b[0m\u001b[1;33m.\u001b[0m\u001b[0m_reindex_non_unique\u001b[0m\u001b[1;33m(\u001b[0m\u001b[0mkeyarr\u001b[0m\u001b[1;33m)\u001b[0m\u001b[1;33m\u001b[0m\u001b[1;33m\u001b[0m\u001b[0m\n\u001b[0;32m   1313\u001b[0m \u001b[1;33m\u001b[0m\u001b[0m\n\u001b[1;32m-> 1314\u001b[1;33m         \u001b[0mself\u001b[0m\u001b[1;33m.\u001b[0m\u001b[0m_validate_read_indexer\u001b[0m\u001b[1;33m(\u001b[0m\u001b[0mkeyarr\u001b[0m\u001b[1;33m,\u001b[0m \u001b[0mindexer\u001b[0m\u001b[1;33m,\u001b[0m \u001b[0maxis\u001b[0m\u001b[1;33m)\u001b[0m\u001b[1;33m\u001b[0m\u001b[1;33m\u001b[0m\u001b[0m\n\u001b[0m\u001b[0;32m   1315\u001b[0m \u001b[1;33m\u001b[0m\u001b[0m\n\u001b[0;32m   1316\u001b[0m         if needs_i8_conversion(ax.dtype) or isinstance(\n",
      "\u001b[1;32mc:\\users\\hanin\\documents\\clockworkx\\mito\\mitoenv\\lib\\site-packages\\pandas\\core\\indexing.py\u001b[0m in \u001b[0;36m_validate_read_indexer\u001b[1;34m(self, key, indexer, axis)\u001b[0m\n\u001b[0;32m   1375\u001b[0m \u001b[1;33m\u001b[0m\u001b[0m\n\u001b[0;32m   1376\u001b[0m             \u001b[0mnot_found\u001b[0m \u001b[1;33m=\u001b[0m \u001b[0mlist\u001b[0m\u001b[1;33m(\u001b[0m\u001b[0mensure_index\u001b[0m\u001b[1;33m(\u001b[0m\u001b[0mkey\u001b[0m\u001b[1;33m)\u001b[0m\u001b[1;33m[\u001b[0m\u001b[0mmissing_mask\u001b[0m\u001b[1;33m.\u001b[0m\u001b[0mnonzero\u001b[0m\u001b[1;33m(\u001b[0m\u001b[1;33m)\u001b[0m\u001b[1;33m[\u001b[0m\u001b[1;36m0\u001b[0m\u001b[1;33m]\u001b[0m\u001b[1;33m]\u001b[0m\u001b[1;33m.\u001b[0m\u001b[0munique\u001b[0m\u001b[1;33m(\u001b[0m\u001b[1;33m)\u001b[0m\u001b[1;33m)\u001b[0m\u001b[1;33m\u001b[0m\u001b[1;33m\u001b[0m\u001b[0m\n\u001b[1;32m-> 1377\u001b[1;33m             \u001b[1;32mraise\u001b[0m \u001b[0mKeyError\u001b[0m\u001b[1;33m(\u001b[0m\u001b[1;34mf\"{not_found} not in index\"\u001b[0m\u001b[1;33m)\u001b[0m\u001b[1;33m\u001b[0m\u001b[1;33m\u001b[0m\u001b[0m\n\u001b[0m\u001b[0;32m   1378\u001b[0m \u001b[1;33m\u001b[0m\u001b[0m\n\u001b[0;32m   1379\u001b[0m \u001b[1;33m\u001b[0m\u001b[0m\n",
      "\u001b[1;31mKeyError\u001b[0m: \"['game_name'] not in index\""
     ]
    }
   ],
   "source": [
    "from mitosheet import *; register_analysis(\"id-jgdeohkhik\");\n",
    "    \n",
    "# Pivoted into all_games\n",
    "tmp_df = all_games[['user_review', 'meta_score', 'game_name', 'platform']]\n",
    "pivot_table = tmp_df.pivot_table(\n",
    "    index=['platform'],\n",
    "    values=['game_name', 'meta_score', 'user_review'],\n",
    "    aggfunc={'game_name': ['count'], 'meta_score': ['mean'], 'user_review': ['mean']}\n",
    ")\n",
    "pivot_table.set_axis([flatten_column_header(col) for col in pivot_table.keys()], axis=1, inplace=True)\n",
    "all_games_pivot = pivot_table.reset_index()\n",
    "\n",
    "# Renamed all_games_pivot to group_by_platform\n",
    "group_by_platform = all_games_pivot\n"
   ]
  },
  {
   "cell_type": "code",
   "execution_count": 23,
   "id": "563de6d3-912e-4220-a7fb-930c4ef6a935",
   "metadata": {},
   "outputs": [
    {
     "data": {
      "text/html": [
       "<iframe\n",
       "    scrolling=\"no\"\n",
       "    width=\"100%\"\n",
       "    height=\"545px\"\n",
       "    src=\"iframe_figures/figure_23.html\"\n",
       "    frameborder=\"0\"\n",
       "    allowfullscreen\n",
       "></iframe>\n"
      ]
     },
     "metadata": {},
     "output_type": "display_data"
    }
   ],
   "source": [
    "import plotly.express as px\n",
    "# Construct the graph and style it. Further customize your graph by editing this code.\n",
    "# See Plotly Documentation for help: https://plotly.com/python/plotly-express/\n",
    "fig = px.bar(all_games_pivot, x='platform', y='user_review count')\n",
    "fig.update_layout(\n",
    "    title='platform, user_review count bar chart', \n",
    "    xaxis = dict(\n",
    "        rangeslider = dict(\n",
    "            visible=True, \n",
    "            thickness=0.05\n",
    "        )\n",
    "    ), \n",
    "    yaxis = dict(\n",
    "\n",
    "    ), \n",
    "    barmode='group', \n",
    "    paper_bgcolor='#FFFFFF', \n",
    "    showlegend=True\n",
    ")\n",
    "fig.show(renderer=\"iframe\")"
   ]
  },
  {
   "cell_type": "markdown",
   "id": "6f00d9e8-a131-4a0c-b582-e5415b99e7b1",
   "metadata": {},
   "source": [
    "## Creating conditional columns\n",
    "You can create columns based on conditionals with very few steps using IF. In the example below, I will create a new column saying if the user_review column is above nine or not. To do so, I clicked on any value in the user_review column, clicked on ADD COL, and typed =IF(user_review,’Yes’, ‘No’). The way it works is =IF(column, Value_IF_True, Value_IF_False), which is pretty similar to what you would do in Excel."
   ]
  },
  {
   "cell_type": "code",
   "execution_count": 24,
   "id": "5a76e4cc-5998-48d2-8f27-a82dbc1c0c4b",
   "metadata": {},
   "outputs": [
    {
     "data": {
      "application/vnd.jupyter.widget-view+json": {
       "model_id": "83c8d264347a4998a2f5fb56bcac1fc5",
       "version_major": 2,
       "version_minor": 0
      },
      "text/plain": [
       "MitoWidget(analysis_data_json='{\"analysisName\": \"id-rqbzwksiil\", \"analysisToReplay\": null, \"code\": [], \"stepSu…"
      ]
     },
     "metadata": {},
     "output_type": "display_data"
    }
   ],
   "source": [
    "mitosheet.sheet(all_games, analysis_to_replay=\"id-rqbzwksiil\")"
   ]
  },
  {
   "cell_type": "code",
   "execution_count": null,
   "id": "2da8cfc4-924d-4c0a-bb18-054aa05bf121",
   "metadata": {},
   "outputs": [],
   "source": [
    "from mitosheet import *; register_analysis(\"id-rqbzwksiil\");\n",
    "    \n",
    "# Added column new-column-jw3a\n",
    "all_games.insert(6, 'new-column-jw3a', 0)\n",
    "\n",
    "# Changed user_review to dtype float\n",
    "all_games['user_review'] = to_float_series(all_games['user_review'])\n",
    "\n",
    "# Set formula of new-column-jw3a\n",
    "all_games['new-column-jw3a'] = IF(all_games['user_review']>9,1,0)\n",
    "\n",
    "# Renamed columns above_9\n",
    "all_games.rename(columns={'new-column-jw3a': 'above_9'}, inplace=True)\n"
   ]
  },
  {
   "cell_type": "code",
   "execution_count": null,
   "id": "86d62a7a-a077-4d0f-8b3b-d023a6d36470",
   "metadata": {},
   "outputs": [],
   "source": [
    "from mitosheet import *; register_analysis(\"id-spfjtpfvrb\");\n",
    "    \n",
    "# Added column new-column-dkgk\n",
    "all_games.insert(6, 'new-column-dkgk', 0)\n",
    "\n",
    "# Renamed columns above_9\n",
    "all_games.rename(columns={'new-column-dkgk': 'above_9'}, inplace=True)\n",
    "\n",
    "# Set formula of above_9\n",
    "all_games['above_9'] = IF(all_games['user_review'] > 0 , 1,0)\n"
   ]
  },
  {
   "cell_type": "markdown",
   "id": "6a41656b-8313-451b-b8f9-b714edc6bf21",
   "metadata": {},
   "source": [
    "## Data Exploration\n",
    "Mito makes data exploration intuitive. Just click on the column, click on the filter icon, then click on Summary. You will see information such as a graph of the data distribution, and descriptive statistics such as mean, standard deviation, number of null values, etc."
   ]
  },
  {
   "cell_type": "code",
   "execution_count": 28,
   "id": "713cfd3c-2f77-4285-8921-ab4d6f35e491",
   "metadata": {},
   "outputs": [
    {
     "data": {
      "application/vnd.jupyter.widget-view+json": {
       "model_id": "fbf84505d6f44837b2ee2198ffe7a26c",
       "version_major": 2,
       "version_minor": 0
      },
      "text/plain": [
       "MitoWidget(analysis_data_json='{\"analysisName\": \"id-cjtiyrqoqa\", \"analysisToReplay\": null, \"code\": [], \"stepSu…"
      ]
     },
     "metadata": {},
     "output_type": "display_data"
    }
   ],
   "source": [
    "mitosheet.sheet(all_games, analysis_to_replay=\"id-cjtiyrqoqa\")"
   ]
  },
  {
   "cell_type": "code",
   "execution_count": null,
   "id": "1b48c808-27f9-4213-957c-c77627802905",
   "metadata": {},
   "outputs": [],
   "source": [
    "from mitosheet import *; register_analysis(\"id-cjtiyrqoqa\");\n",
    "    \n",
    "# Filtered platform\n",
    "all_games = all_games[all_games['platform'].str.contains(' PlayStation', na=False)]\n"
   ]
  },
  {
   "cell_type": "markdown",
   "id": "a41d14b4-bbcb-41b2-b241-8c89a7bbb881",
   "metadata": {},
   "source": [
    "## Data Visualization\n",
    "If you need to create some basic graphs, you can do that as well. For example, you can create a bar plot with a few clicks, and you can generate the code used to generate the graph if you want to edit it. Just click on GRAPH, then select the chart type and the x-axis and y-axis."
   ]
  },
  {
   "cell_type": "code",
   "execution_count": 3,
   "id": "1c90fefc-7c56-4003-8353-18856751fb82",
   "metadata": {},
   "outputs": [
    {
     "data": {
      "application/vnd.jupyter.widget-view+json": {
       "model_id": "f9b65ec9382b49b69c5ef8641d7a2570",
       "version_major": 2,
       "version_minor": 0
      },
      "text/plain": [
       "MitoWidget(analysis_data_json='{\"analysisName\": \"id-fytcfdidgz\", \"analysisToReplay\": {\"analysisName\": \"id-hpcg…"
      ]
     },
     "metadata": {},
     "output_type": "display_data"
    }
   ],
   "source": [
    "mitosheet.sheet(all_games, analysis_to_replay=\"id-hpcggkmxzy\")"
   ]
  },
  {
   "cell_type": "code",
   "execution_count": null,
   "id": "39dbce5b-66ec-4bb0-8b17-8a6278d48126",
   "metadata": {},
   "outputs": [],
   "source": [
    "from mitosheet import *; register_analysis(\"id-hpcggkmxzy\");\n",
    "    \n",
    "# Pivoted into all_games\n",
    "all_games_pivot = pd.DataFrame(data={})\n"
   ]
  },
  {
   "cell_type": "code",
   "execution_count": 2,
   "id": "0e89255d-c7b7-4d87-b423-f35e9cd882d3",
   "metadata": {},
   "outputs": [
    {
     "data": {
      "text/html": [
       "<iframe\n",
       "    scrolling=\"no\"\n",
       "    width=\"100%\"\n",
       "    height=\"545px\"\n",
       "    src=\"iframe_figures/figure_2.html\"\n",
       "    frameborder=\"0\"\n",
       "    allowfullscreen\n",
       "></iframe>\n"
      ]
     },
     "metadata": {},
     "output_type": "display_data"
    }
   ],
   "source": [
    "import plotly.express as px\n",
    "\n",
    "# Filter the dataframe so that it does not crash the browser\n",
    "all_games_filtered = all_games.head(1000)\n",
    "\n",
    "# Construct the graph and style it. Further customize your graph by editing this code.\n",
    "# See Plotly Documentation for help: https://plotly.com/python/plotly-express/\n",
    "fig = px.bar(all_games_filtered, x='platform')\n",
    "fig.update_layout(\n",
    "    title='platform (first 1000 rows) bar chart', \n",
    "    xaxis = dict(\n",
    "        rangeslider = dict(\n",
    "            visible=True, \n",
    "            thickness=0.05\n",
    "        )\n",
    "    ), \n",
    "    yaxis = dict(\n",
    "\n",
    "    ), \n",
    "    barmode='group', \n",
    "    paper_bgcolor='#FFFFFF', \n",
    "    showlegend=True\n",
    ")\n",
    "fig.show(renderer=\"iframe\")"
   ]
  },
  {
   "cell_type": "code",
   "execution_count": null,
   "id": "eba76788-3788-4578-ac29-e6ebe88492c5",
   "metadata": {},
   "outputs": [],
   "source": []
  }
 ],
 "metadata": {
  "interpreter": {
   "hash": "fa0fadf159cd22d63a003b7d139707a7a70662c2b89bcb2e297afc1cb8a6dcc2"
  },
  "kernelspec": {
   "display_name": "Python 3 (ipykernel)",
   "language": "python",
   "name": "python3"
  },
  "language_info": {
   "codemirror_mode": {
    "name": "ipython",
    "version": 3
   },
   "file_extension": ".py",
   "mimetype": "text/x-python",
   "name": "python",
   "nbconvert_exporter": "python",
   "pygments_lexer": "ipython3",
   "version": "3.7.9"
  },
  "widgets": {
   "application/vnd.jupyter.widget-state+json": {
    "state": {},
    "version_major": 2,
    "version_minor": 0
   }
  }
 },
 "nbformat": 4,
 "nbformat_minor": 5
}
